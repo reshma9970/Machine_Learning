{
 "cells": [
  {
   "cell_type": "markdown",
   "id": "0183aa59",
   "metadata": {},
   "source": [
    "# Simple Linear Regression"
   ]
  },
  {
   "cell_type": "markdown",
   "id": "c90415e9",
   "metadata": {},
   "source": [
    " **Objective**: To develop a predictive model that accurately estimates the delivery time based on sorting time, enabling optimization and better management of delivery processes for enhanced efficiency and customer satisfaction."
   ]
  },
  {
   "cell_type": "code",
   "execution_count": 33,
   "id": "a0ebc1d4",
   "metadata": {},
   "outputs": [],
   "source": [
    "import pandas as pd\n",
    "import numpy as np\n",
    "import matplotlib.pyplot as plt"
   ]
  },
  {
   "cell_type": "code",
   "execution_count": 34,
   "id": "3fd9eb36",
   "metadata": {},
   "outputs": [
    {
     "data": {
      "text/html": [
       "<div>\n",
       "<style scoped>\n",
       "    .dataframe tbody tr th:only-of-type {\n",
       "        vertical-align: middle;\n",
       "    }\n",
       "\n",
       "    .dataframe tbody tr th {\n",
       "        vertical-align: top;\n",
       "    }\n",
       "\n",
       "    .dataframe thead th {\n",
       "        text-align: right;\n",
       "    }\n",
       "</style>\n",
       "<table border=\"1\" class=\"dataframe\">\n",
       "  <thead>\n",
       "    <tr style=\"text-align: right;\">\n",
       "      <th></th>\n",
       "      <th>Delivery Time</th>\n",
       "      <th>Sorting Time</th>\n",
       "    </tr>\n",
       "  </thead>\n",
       "  <tbody>\n",
       "    <tr>\n",
       "      <th>0</th>\n",
       "      <td>21.00</td>\n",
       "      <td>10</td>\n",
       "    </tr>\n",
       "    <tr>\n",
       "      <th>1</th>\n",
       "      <td>13.50</td>\n",
       "      <td>4</td>\n",
       "    </tr>\n",
       "    <tr>\n",
       "      <th>2</th>\n",
       "      <td>19.75</td>\n",
       "      <td>6</td>\n",
       "    </tr>\n",
       "    <tr>\n",
       "      <th>3</th>\n",
       "      <td>24.00</td>\n",
       "      <td>9</td>\n",
       "    </tr>\n",
       "    <tr>\n",
       "      <th>4</th>\n",
       "      <td>29.00</td>\n",
       "      <td>10</td>\n",
       "    </tr>\n",
       "    <tr>\n",
       "      <th>5</th>\n",
       "      <td>15.35</td>\n",
       "      <td>6</td>\n",
       "    </tr>\n",
       "    <tr>\n",
       "      <th>6</th>\n",
       "      <td>19.00</td>\n",
       "      <td>7</td>\n",
       "    </tr>\n",
       "    <tr>\n",
       "      <th>7</th>\n",
       "      <td>9.50</td>\n",
       "      <td>3</td>\n",
       "    </tr>\n",
       "    <tr>\n",
       "      <th>8</th>\n",
       "      <td>17.90</td>\n",
       "      <td>10</td>\n",
       "    </tr>\n",
       "    <tr>\n",
       "      <th>9</th>\n",
       "      <td>18.75</td>\n",
       "      <td>9</td>\n",
       "    </tr>\n",
       "    <tr>\n",
       "      <th>10</th>\n",
       "      <td>19.83</td>\n",
       "      <td>8</td>\n",
       "    </tr>\n",
       "    <tr>\n",
       "      <th>11</th>\n",
       "      <td>10.75</td>\n",
       "      <td>4</td>\n",
       "    </tr>\n",
       "    <tr>\n",
       "      <th>12</th>\n",
       "      <td>16.68</td>\n",
       "      <td>7</td>\n",
       "    </tr>\n",
       "    <tr>\n",
       "      <th>13</th>\n",
       "      <td>11.50</td>\n",
       "      <td>3</td>\n",
       "    </tr>\n",
       "    <tr>\n",
       "      <th>14</th>\n",
       "      <td>12.03</td>\n",
       "      <td>3</td>\n",
       "    </tr>\n",
       "    <tr>\n",
       "      <th>15</th>\n",
       "      <td>14.88</td>\n",
       "      <td>4</td>\n",
       "    </tr>\n",
       "    <tr>\n",
       "      <th>16</th>\n",
       "      <td>13.75</td>\n",
       "      <td>6</td>\n",
       "    </tr>\n",
       "    <tr>\n",
       "      <th>17</th>\n",
       "      <td>18.11</td>\n",
       "      <td>7</td>\n",
       "    </tr>\n",
       "    <tr>\n",
       "      <th>18</th>\n",
       "      <td>8.00</td>\n",
       "      <td>2</td>\n",
       "    </tr>\n",
       "    <tr>\n",
       "      <th>19</th>\n",
       "      <td>17.83</td>\n",
       "      <td>7</td>\n",
       "    </tr>\n",
       "    <tr>\n",
       "      <th>20</th>\n",
       "      <td>21.50</td>\n",
       "      <td>5</td>\n",
       "    </tr>\n",
       "  </tbody>\n",
       "</table>\n",
       "</div>"
      ],
      "text/plain": [
       "    Delivery Time  Sorting Time\n",
       "0           21.00            10\n",
       "1           13.50             4\n",
       "2           19.75             6\n",
       "3           24.00             9\n",
       "4           29.00            10\n",
       "5           15.35             6\n",
       "6           19.00             7\n",
       "7            9.50             3\n",
       "8           17.90            10\n",
       "9           18.75             9\n",
       "10          19.83             8\n",
       "11          10.75             4\n",
       "12          16.68             7\n",
       "13          11.50             3\n",
       "14          12.03             3\n",
       "15          14.88             4\n",
       "16          13.75             6\n",
       "17          18.11             7\n",
       "18           8.00             2\n",
       "19          17.83             7\n",
       "20          21.50             5"
      ]
     },
     "execution_count": 34,
     "metadata": {},
     "output_type": "execute_result"
    }
   ],
   "source": [
    "delivery=pd.read_csv(r\"D:\\datascience\\delivery_time.csv\")\n",
    "delivery"
   ]
  },
  {
   "cell_type": "code",
   "execution_count": 35,
   "id": "5786ee9c",
   "metadata": {},
   "outputs": [],
   "source": [
    "delivery.rename(columns={'Delivery Time':'Delivery_time','Sorting Time':'Sorting_time'},inplace=True)"
   ]
  },
  {
   "cell_type": "code",
   "execution_count": 36,
   "id": "18c81803",
   "metadata": {},
   "outputs": [
    {
     "data": {
      "text/plain": [
       "<BarContainer object of 21 artists>"
      ]
     },
     "execution_count": 36,
     "metadata": {},
     "output_type": "execute_result"
    },
    {
     "data": {
      "image/png": "[encoded data removed]",
      "text/plain": [
       "<Figure size 640x480 with 1 Axes>"
      ]
     },
     "metadata": {},
     "output_type": "display_data"
    }
   ],
   "source": [
    "plt.bar(height = delivery.Delivery_time, x = np.arange(1, 22, 1))"
   ]
  },
  {
   "cell_type": "code",
   "execution_count": 7,
   "id": "4985f992",
   "metadata": {},
   "outputs": [
    {
     "data": {
      "text/plain": [
       "(array([2., 3., 2., 2., 4., 4., 2., 1., 0., 1.]),\n",
       " array([ 8. , 10.1, 12.2, 14.3, 16.4, 18.5, 20.6, 22.7, 24.8, 26.9, 29. ]),\n",
       " <BarContainer object of 10 artists>)"
      ]
     },
     "execution_count": 7,
     "metadata": {},
     "output_type": "execute_result"
    },
    {
     "data": {
      "image/png": "[encoded data removed]",
      "text/plain": [
       "<Figure size 640x480 with 1 Axes>"
      ]
     },
     "metadata": {},
     "output_type": "display_data"
    }
   ],
   "source": [
    "plt.hist(delivery.Delivery_time)"
   ]
  },
  {
   "cell_type": "code",
   "execution_count": 8,
   "id": "bd9e59e1",
   "metadata": {},
   "outputs": [
    {
     "data": {
      "text/plain": [
       "{'whiskers': [<matplotlib.lines.Line2D at 0x19ea8b8faf0>,\n",
       "  <matplotlib.lines.Line2D at 0x19ea8b8fd90>],\n",
       " 'caps': [<matplotlib.lines.Line2D at 0x19ea898c070>,\n",
       "  <matplotlib.lines.Line2D at 0x19ea898c310>],\n",
       " 'boxes': [<matplotlib.lines.Line2D at 0x19ea8b8f850>],\n",
       " 'medians': [<matplotlib.lines.Line2D at 0x19ea898c5b0>],\n",
       " 'fliers': [<matplotlib.lines.Line2D at 0x19ea898c850>],\n",
       " 'means': []}"
      ]
     },
     "execution_count": 8,
     "metadata": {},
     "output_type": "execute_result"
    },
    {
     "data": {
      "image/png": "[encoded data removed]",
      "text/plain": [
       "<Figure size 640x480 with 1 Axes>"
      ]
     },
     "metadata": {},
     "output_type": "display_data"
    }
   ],
   "source": [
    "plt.boxplot(delivery.Delivery_time)"
   ]
  },
  {
   "cell_type": "markdown",
   "id": "484b2bc2",
   "metadata": {},
   "source": [
    "No outlier"
   ]
  },
  {
   "cell_type": "code",
   "execution_count": 10,
   "id": "50b55f8d",
   "metadata": {},
   "outputs": [
    {
     "data": {
      "text/plain": [
       "<BarContainer object of 21 artists>"
      ]
     },
     "execution_count": 10,
     "metadata": {},
     "output_type": "execute_result"
    },
    {
     "data": {
      "image/png": "[encoded data removed]",
      "text/plain": [
       "<Figure size 640x480 with 1 Axes>"
      ]
     },
     "metadata": {},
     "output_type": "display_data"
    }
   ],
   "source": [
    "plt.bar(height = delivery.Sorting_time, x = np.arange(1, 22, 1))"
   ]
  },
  {
   "cell_type": "code",
   "execution_count": 11,
   "id": "90f9afd3",
   "metadata": {},
   "outputs": [
    {
     "data": {
      "text/plain": [
       "<matplotlib.collections.PathCollection at 0x19ea8b8f610>"
      ]
     },
     "execution_count": 11,
     "metadata": {},
     "output_type": "execute_result"
    },
    {
     "data": {
      "image/png": "[encoded data removed]",
      "text/plain": [
       "<Figure size 640x480 with 1 Axes>"
      ]
     },
     "metadata": {},
     "output_type": "display_data"
    }
   ],
   "source": [
    "plt.scatter(x =delivery['Sorting_time'] , y =delivery['Delivery_time'], color = 'green') "
   ]
  },
  {
   "cell_type": "markdown",
   "id": "09975091",
   "metadata": {},
   "source": [
    "It shows positive correlation between delivery time and sorting time"
   ]
  },
  {
   "cell_type": "code",
   "execution_count": 12,
   "id": "268d98c1",
   "metadata": {},
   "outputs": [
    {
     "data": {
      "text/plain": [
       "array([[1.        , 0.82599726],\n",
       "       [0.82599726, 1.        ]])"
      ]
     },
     "execution_count": 12,
     "metadata": {},
     "output_type": "execute_result"
    }
   ],
   "source": [
    "np.corrcoef(delivery.Sorting_time,delivery.Delivery_time) "
   ]
  },
  {
   "cell_type": "code",
   "execution_count": 13,
   "id": "39da9d4c",
   "metadata": {},
   "outputs": [
    {
     "data": {
      "text/plain": [
       "10.655809523809525"
      ]
     },
     "execution_count": 13,
     "metadata": {},
     "output_type": "execute_result"
    }
   ],
   "source": [
    "cov_output = np.cov(delivery.Sorting_time,delivery.Delivery_time)[0, 1]\n",
    "cov_output   #covariance"
   ]
  },
  {
   "cell_type": "code",
   "execution_count": 37,
   "id": "42bb1e12",
   "metadata": {},
   "outputs": [],
   "source": [
    "X = delivery['Sorting_time']\n",
    "y = delivery['Delivery_time']"
   ]
  },
  {
   "cell_type": "code",
   "execution_count": 40,
   "id": "88ee69c3",
   "metadata": {},
   "outputs": [],
   "source": [
    "from sklearn.model_selection import train_test_split\n",
    "\n",
    "X_train, X_test, y_train, y_test = train_test_split(X, y, test_size=0.2, random_state=42)\n"
   ]
  },
  {
   "cell_type": "code",
   "execution_count": 43,
   "id": "aaa11025",
   "metadata": {},
   "outputs": [
    {
     "data": {
      "text/plain": [
       "((16,), (5,), (16,), (5,))"
      ]
     },
     "execution_count": 43,
     "metadata": {},
     "output_type": "execute_result"
    }
   ],
   "source": [
    "X_train.shape, X_test.shape, y_train.shape, y_test.shape"
   ]
  },
  {
   "cell_type": "code",
   "execution_count": 44,
   "id": "c909c423",
   "metadata": {},
   "outputs": [],
   "source": [
    "train_data = pd.concat([X_train, y_train], axis=1)\n"
   ]
  },
  {
   "cell_type": "code",
   "execution_count": 45,
   "id": "74dd4224",
   "metadata": {},
   "outputs": [
    {
     "name": "stdout",
     "output_type": "stream",
     "text": [
      "                            OLS Regression Results                            \n",
      "==============================================================================\n",
      "Dep. Variable:          Delivery_time   R-squared:                       0.760\n",
      "Model:                            OLS   Adj. R-squared:                  0.742\n",
      "Method:                 Least Squares   F-statistic:                     44.22\n",
      "Date:                Sun, 12 Nov 2023   Prob (F-statistic):           1.10e-05\n",
      "Time:                        15:05:20   Log-Likelihood:                -38.507\n",
      "No. Observations:                  16   AIC:                             81.01\n",
      "Df Residuals:                      14   BIC:                             82.56\n",
      "Df Model:                           1                                         \n",
      "Covariance Type:            nonrobust                                         \n",
      "================================================================================\n",
      "                   coef    std err          t      P>|t|      [0.025      0.975]\n",
      "--------------------------------------------------------------------------------\n",
      "Intercept        4.6823      1.945      2.408      0.030       0.512       8.853\n",
      "Sorting_time     2.0242      0.304      6.650      0.000       1.371       2.677\n",
      "==============================================================================\n",
      "Omnibus:                        4.034   Durbin-Watson:                   2.295\n",
      "Prob(Omnibus):                  0.133   Jarque-Bera (JB):                2.110\n",
      "Skew:                           0.871   Prob(JB):                        0.348\n",
      "Kurtosis:                       3.365   Cond. No.                         17.7\n",
      "==============================================================================\n",
      "\n",
      "Notes:\n",
      "[1] Standard Errors assume that the covariance matrix of the errors is correctly specified.\n"
     ]
    },
    {
     "name": "stderr",
     "output_type": "stream",
     "text": [
      "C:\\Users\\reshm\\anaconda3\\lib\\site-packages\\scipy\\stats\\_stats_py.py:1736: UserWarning: kurtosistest only valid for n>=20 ... continuing anyway, n=16\n",
      "  warnings.warn(\"kurtosistest only valid for n>=20 ... continuing \"\n"
     ]
    }
   ],
   "source": [
    "import statsmodels.formula.api as smf\n",
    "model = smf.ols('Delivery_time ~ Sorting_time', data=train_data).fit()\n",
    "print(model.summary())\n"
   ]
  },
  {
   "cell_type": "code",
   "execution_count": 47,
   "id": "b562be0a",
   "metadata": {},
   "outputs": [
    {
     "data": {
      "text/plain": [
       "0     24.924743\n",
       "17    18.852010\n",
       "15    12.779276\n",
       "1     12.779276\n",
       "8     24.924743\n",
       "dtype: float64"
      ]
     },
     "execution_count": 47,
     "metadata": {},
     "output_type": "execute_result"
    }
   ],
   "source": [
    "# Predict on the test set\n",
    "y_test_pred = model.predict(X_test)\n",
    "y_test_pred"
   ]
  },
  {
   "cell_type": "code",
   "execution_count": 48,
   "id": "ffebd5b0",
   "metadata": {},
   "outputs": [
    {
     "name": "stdout",
     "output_type": "stream",
     "text": [
      "Test RMSE: 3.7478979383962745\n"
     ]
    }
   ],
   "source": [
    "# Model Evaluation on Test data\n",
    "test_res = y_test - y_test_pred\n",
    "test_sqrs = test_res * test_res\n",
    "test_mse = np.mean(test_sqrs)\n",
    "test_rmse = np.sqrt(test_mse)\n",
    "print(f\"Test RMSE: {test_rmse}\")\n"
   ]
  },
  {
   "cell_type": "code",
   "execution_count": 49,
   "id": "218cb8d6",
   "metadata": {},
   "outputs": [
    {
     "name": "stdout",
     "output_type": "stream",
     "text": [
      "Train RMSE: 2.6852408839915527\n"
     ]
    }
   ],
   "source": [
    "# Model Evaluation on train data\n",
    "y_train_pred = model.predict(X_train)\n",
    "train_res = y_train - y_train_pred\n",
    "train_sqrs = train_res * train_res\n",
    "train_mse = np.mean(train_sqrs)\n",
    "train_rmse = np.sqrt(train_mse)\n",
    "print(f\"Train RMSE: {train_rmse}\")"
   ]
  },
  {
   "cell_type": "code",
   "execution_count": 50,
   "id": "962c572e",
   "metadata": {
    "scrolled": true
   },
   "outputs": [
    {
     "data": {
      "image/png": "[encoded data removed]",
      "text/plain": [
       "<Figure size 640x480 with 1 Axes>"
      ]
     },
     "metadata": {},
     "output_type": "display_data"
    }
   ],
   "source": [
    "# Visualization\n",
    "plt.scatter(X_test, y_test, label='Test Data')\n",
    "plt.plot(X_test, y_test_pred, 'r', label='Predicted Data')\n",
    "plt.xlabel('Sorting Time')\n",
    "plt.ylabel('Delivery Time')\n",
    "plt.title('Test Data vs Predicted Data')\n",
    "plt.legend()\n",
    "plt.show()"
   ]
  },
  {
   "cell_type": "markdown",
   "id": "1f6de68b",
   "metadata": {},
   "source": [
    "### Log transformation"
   ]
  },
  {
   "cell_type": "code",
   "execution_count": 51,
   "id": "41ce3a36",
   "metadata": {},
   "outputs": [],
   "source": [
    "X_log = np.log(X)"
   ]
  },
  {
   "cell_type": "code",
   "execution_count": 52,
   "id": "d2a9a9bc",
   "metadata": {},
   "outputs": [],
   "source": [
    "# Split the dataset into training and testing sets\n",
    "X_train, X_test, y_train, y_test = train_test_split(X_log, y, test_size=0.2, random_state=42)"
   ]
  },
  {
   "cell_type": "code",
   "execution_count": 53,
   "id": "088f3a93",
   "metadata": {},
   "outputs": [],
   "source": [
    "train_data = pd.concat([X_train, y_train], axis=1)\n"
   ]
  },
  {
   "cell_type": "code",
   "execution_count": 72,
   "id": "9972bc08",
   "metadata": {},
   "outputs": [
    {
     "name": "stdout",
     "output_type": "stream",
     "text": [
      "                            OLS Regression Results                            \n",
      "==============================================================================\n",
      "Dep. Variable:          Delivery_time   R-squared:                       0.806\n",
      "Model:                            OLS   Adj. R-squared:                  0.792\n",
      "Method:                 Least Squares   F-statistic:                     58.25\n",
      "Date:                Sun, 12 Nov 2023   Prob (F-statistic):           2.36e-06\n",
      "Time:                        15:37:19   Log-Likelihood:                 7.5289\n",
      "No. Observations:                  16   AIC:                            -11.06\n",
      "Df Residuals:                      14   BIC:                            -9.513\n",
      "Df Model:                           1                                         \n",
      "Covariance Type:            nonrobust                                         \n",
      "========================================================================================\n",
      "                           coef    std err          t      P>|t|      [0.025      0.975]\n",
      "----------------------------------------------------------------------------------------\n",
      "Intercept                1.6331      0.153     10.678      0.000       1.305       1.961\n",
      "np.log(Sorting_time)     0.6678      0.087      7.632      0.000       0.480       0.855\n",
      "==============================================================================\n",
      "Omnibus:                        1.935   Durbin-Watson:                   2.142\n",
      "Prob(Omnibus):                  0.380   Jarque-Bera (JB):                1.166\n",
      "Skew:                           0.655   Prob(JB):                        0.558\n",
      "Kurtosis:                       2.814   Cond. No.                         8.67\n",
      "==============================================================================\n",
      "\n",
      "Notes:\n",
      "[1] Standard Errors assume that the covariance matrix of the errors is correctly specified.\n"
     ]
    },
    {
     "name": "stderr",
     "output_type": "stream",
     "text": [
      "C:\\Users\\reshm\\anaconda3\\lib\\site-packages\\scipy\\stats\\_stats_py.py:1736: UserWarning: kurtosistest only valid for n>=20 ... continuing anyway, n=16\n",
      "  warnings.warn(\"kurtosistest only valid for n>=20 ... continuing \"\n"
     ]
    }
   ],
   "source": [
    "model_L = smf.ols('Delivery_time ~ np.log(Sorting_time)', data=train_data).fit()\n",
    "print(model_L.summary())\n"
   ]
  },
  {
   "cell_type": "code",
   "execution_count": 73,
   "id": "c333f872",
   "metadata": {},
   "outputs": [],
   "source": [
    "y_test_pred_L = model_L.predict(X_test)\n"
   ]
  },
  {
   "cell_type": "code",
   "execution_count": 74,
   "id": "27139da0",
   "metadata": {},
   "outputs": [
    {
     "name": "stdout",
     "output_type": "stream",
     "text": [
      "Test RMSE_L: 0.1554473614237478\n"
     ]
    }
   ],
   "source": [
    "test_res_L = y_test - y_test_pred_L\n",
    "test_sqrs_L = test_res_L * test_res_L\n",
    "test_mse_L= np.mean(test_sqrs_L)\n",
    "test_rmse_L= np.sqrt(test_mse_L)\n",
    "print(f\"Test RMSE_L: {test_rmse_L}\")"
   ]
  },
  {
   "cell_type": "code",
   "execution_count": 75,
   "id": "492ad95e",
   "metadata": {},
   "outputs": [
    {
     "name": "stdout",
     "output_type": "stream",
     "text": [
      "Train RMSE_L: 0.15114802060923246\n"
     ]
    }
   ],
   "source": [
    "# Model Evaluation on train data\n",
    "y_train_pred_L = model_L.predict(X_train)\n",
    "train_res_L = y_train - y_train_pred_L\n",
    "train_sqrs_L = train_res_L * train_res_L\n",
    "train_mse_L = np.mean(train_sqrs_L)\n",
    "train_rmse_L = np.sqrt(train_mse_L)\n",
    "print(f\"Train RMSE_L: {train_rmse_L}\")"
   ]
  },
  {
   "cell_type": "markdown",
   "id": "7eeaf78c",
   "metadata": {},
   "source": [
    "### Exponential transformation"
   ]
  },
  {
   "cell_type": "code",
   "execution_count": 64,
   "id": "35f2c7f5",
   "metadata": {},
   "outputs": [],
   "source": [
    "X = delivery[['Sorting_time']]\n",
    "y = np.log(delivery['Delivery_time'])  # Apply log transformation to y\n"
   ]
  },
  {
   "cell_type": "code",
   "execution_count": 65,
   "id": "a4ab739c",
   "metadata": {},
   "outputs": [
    {
     "data": {
      "text/plain": [
       "((21, 1), (21,))"
      ]
     },
     "execution_count": 65,
     "metadata": {},
     "output_type": "execute_result"
    }
   ],
   "source": [
    "X.shape,y.shape"
   ]
  },
  {
   "cell_type": "code",
   "execution_count": 66,
   "id": "3828c4b9",
   "metadata": {},
   "outputs": [],
   "source": [
    "X_train, X_test, y_train, y_test = train_test_split(X, y, test_size=0.2, random_state=42)\n"
   ]
  },
  {
   "cell_type": "code",
   "execution_count": 67,
   "id": "d651fb36",
   "metadata": {},
   "outputs": [],
   "source": [
    "train_data = pd.concat([X_train, y_train], axis=1)\n"
   ]
  },
  {
   "cell_type": "code",
   "execution_count": 71,
   "id": "f32a667b",
   "metadata": {},
   "outputs": [
    {
     "name": "stdout",
     "output_type": "stream",
     "text": [
      "                              OLS Regression Results                             \n",
      "=================================================================================\n",
      "Dep. Variable:     np.log(Delivery_time)   R-squared:                       0.783\n",
      "Model:                               OLS   Adj. R-squared:                  0.768\n",
      "Method:                    Least Squares   F-statistic:                     50.57\n",
      "Date:                   Sun, 12 Nov 2023   Prob (F-statistic):           5.24e-06\n",
      "Time:                           15:36:45   Log-Likelihood:                 22.343\n",
      "No. Observations:                     16   AIC:                            -40.69\n",
      "Df Residuals:                         14   BIC:                            -39.14\n",
      "Df Model:                              1                                         \n",
      "Covariance Type:               nonrobust                                         \n",
      "================================================================================\n",
      "                   coef    std err          t      P>|t|      [0.025      0.975]\n",
      "--------------------------------------------------------------------------------\n",
      "Intercept        0.7201      0.043     16.606      0.000       0.627       0.813\n",
      "Sorting_time     0.0483      0.007      7.111      0.000       0.034       0.063\n",
      "==============================================================================\n",
      "Omnibus:                        5.822   Durbin-Watson:                   2.388\n",
      "Prob(Omnibus):                  0.054   Jarque-Bera (JB):                3.037\n",
      "Skew:                           0.958   Prob(JB):                        0.219\n",
      "Kurtosis:                       3.939   Cond. No.                         17.7\n",
      "==============================================================================\n",
      "\n",
      "Notes:\n",
      "[1] Standard Errors assume that the covariance matrix of the errors is correctly specified.\n"
     ]
    },
    {
     "name": "stderr",
     "output_type": "stream",
     "text": [
      "C:\\Users\\reshm\\anaconda3\\lib\\site-packages\\scipy\\stats\\_stats_py.py:1736: UserWarning: kurtosistest only valid for n>=20 ... continuing anyway, n=16\n",
      "  warnings.warn(\"kurtosistest only valid for n>=20 ... continuing \"\n"
     ]
    }
   ],
   "source": [
    "# Fit model with exponential transformation\n",
    "model_exp = smf.ols('np.log(Delivery_time) ~ Sorting_time', data=train_data).fit()\n",
    "print(model_exp.summary())\n",
    "\n"
   ]
  },
  {
   "cell_type": "code",
   "execution_count": 76,
   "id": "efcac291",
   "metadata": {},
   "outputs": [],
   "source": [
    "y_test_pred_exp = np.exp(model_exp.predict(X_test))"
   ]
  },
  {
   "cell_type": "code",
   "execution_count": 77,
   "id": "db684c27",
   "metadata": {},
   "outputs": [
    {
     "name": "stdout",
     "output_type": "stream",
     "text": [
      "Test RMSE with Exponential Transformation: 14.360335851248742\n"
     ]
    }
   ],
   "source": [
    "test_res_exp = np.exp(y_test) - y_test_pred_exp\n",
    "test_sqrs_exp = test_res_exp * test_res_exp\n",
    "test_mse_exp = np.mean(test_sqrs_exp)\n",
    "test_rmse_exp = np.sqrt(test_mse_exp)\n",
    "print(f\"Test RMSE with Exponential Transformation: {test_rmse_exp}\")"
   ]
  },
  {
   "cell_type": "code",
   "execution_count": 79,
   "id": "fe9ac476",
   "metadata": {},
   "outputs": [],
   "source": [
    "y_train_pred_exp = np.exp(model_exp.predict(X_train))\n"
   ]
  },
  {
   "cell_type": "code",
   "execution_count": 80,
   "id": "b18ecf02",
   "metadata": {},
   "outputs": [
    {
     "name": "stdout",
     "output_type": "stream",
     "text": [
      "Train RMSE with Exponential Transformation: 14.886565665209803\n"
     ]
    }
   ],
   "source": [
    "train_res_exp = np.exp(y_train) - y_train_pred_exp\n",
    "train_sqrs_exp = train_res_exp * train_res_exp\n",
    "train_mse_exp = np.mean(train_sqrs_exp)\n",
    "train_rmse_exp = np.sqrt(train_mse_exp)\n",
    "print(f\"Train RMSE with Exponential Transformation: {train_rmse_exp}\")"
   ]
  },
  {
   "cell_type": "code",
   "execution_count": 103,
   "id": "22958b35",
   "metadata": {},
   "outputs": [
    {
     "data": {
      "text/html": [
       "<div>\n",
       "<style scoped>\n",
       "    .dataframe tbody tr th:only-of-type {\n",
       "        vertical-align: middle;\n",
       "    }\n",
       "\n",
       "    .dataframe tbody tr th {\n",
       "        vertical-align: top;\n",
       "    }\n",
       "\n",
       "    .dataframe thead th {\n",
       "        text-align: right;\n",
       "    }\n",
       "</style>\n",
       "<table border=\"1\" class=\"dataframe\">\n",
       "  <thead>\n",
       "    <tr style=\"text-align: right;\">\n",
       "      <th></th>\n",
       "      <th>MODEL</th>\n",
       "      <th>Train RMSE</th>\n",
       "      <th>Test RMSE</th>\n",
       "    </tr>\n",
       "  </thead>\n",
       "  <tbody>\n",
       "    <tr>\n",
       "      <th>0</th>\n",
       "      <td>SLR</td>\n",
       "      <td>2.685241</td>\n",
       "      <td>3.747898</td>\n",
       "    </tr>\n",
       "    <tr>\n",
       "      <th>1</th>\n",
       "      <td>Log model</td>\n",
       "      <td>0.151148</td>\n",
       "      <td>0.155447</td>\n",
       "    </tr>\n",
       "    <tr>\n",
       "      <th>2</th>\n",
       "      <td>Exp model</td>\n",
       "      <td>14.886566</td>\n",
       "      <td>14.360336</td>\n",
       "    </tr>\n",
       "  </tbody>\n",
       "</table>\n",
       "</div>"
      ],
      "text/plain": [
       "       MODEL  Train RMSE  Test RMSE\n",
       "0        SLR    2.685241   3.747898\n",
       "1  Log model    0.151148   0.155447\n",
       "2  Exp model   14.886566  14.360336"
      ]
     },
     "execution_count": 103,
     "metadata": {},
     "output_type": "execute_result"
    }
   ],
   "source": [
    "# Choose the best model using RMSE\n",
    "data = {\"MODEL\":pd.Series([\"SLR\", \"Log model\", \"Exp model\"]), \"Train RMSE\":pd.Series([train_rmse,train_rmse_L,train_rmse_exp ]),\"Test RMSE\":pd.Series([test_rmse,test_rmse_L,test_rmse_exp])}\n",
    "table_rmse = pd.DataFrame(data)\n",
    "table_rmse"
   ]
  },
  {
   "cell_type": "markdown",
   "id": "4d78096e",
   "metadata": {},
   "source": [
    "log model is the best model"
   ]
  },
  {
   "cell_type": "code",
   "execution_count": null,
   "id": "1a1fba4b",
   "metadata": {},
   "outputs": [],
   "source": []
  }
 ],
 "metadata": {
  "kernelspec": {
   "display_name": "Python 3 (ipykernel)",
   "language": "python",
   "name": "python3"
  },
  "language_info": {
   "codemirror_mode": {
    "name": "ipython",
    "version": 3
   },
   "file_extension": ".py",
   "mimetype": "text/x-python",
   "name": "python",
   "nbconvert_exporter": "python",
   "pygments_lexer": "ipython3",
   "version": "3.10.9"
  }
 },
 "nbformat": 4,
 "nbformat_minor": 5
}
